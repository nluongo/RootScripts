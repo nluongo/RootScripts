{
 "cells": [
  {
   "cell_type": "code",
   "execution_count": 1,
   "metadata": {},
   "outputs": [
    {
     "name": "stdout",
     "output_type": "stream",
     "text": [
      "Welcome to JupyROOT 6.14/02\n"
     ]
    }
   ],
   "source": [
    "%matplotlib inline\n",
    "\n",
    "import ROOT\n",
    "from ROOT import TCanvas, TH1F, TLegend\n",
    "from NNDefs import build_and_train_class_nn\n",
    "from LayersDefs import get_signal_and_background_frames, calculate_derived_et_columns, roc_efficiencies, background_eff_at_target_signal_eff\n",
    "from sklearn.model_selection import train_test_split\n",
    "import math\n",
    "import numpy as np\n",
    "import pandas as pd\n",
    "import random\n",
    "import matplotlib.pyplot as plt\n",
    "from matplotlib import cm\n",
    "from mpl_toolkits.mplot3d import Axes3D\n",
    "from tqdm import tqdm_notebook as tqdm"
   ]
  },
  {
   "cell_type": "code",
   "execution_count": 2,
   "metadata": {},
   "outputs": [],
   "source": [
    "#random.seed(7)\n",
    "#np.random.seed(7)\n",
    "\n",
    "total_steps = 101\n",
    "\n",
    "weight_steps = [0.1 * i for i in range(total_steps)]\n",
    "\n",
    "ninety_percent_efficiencies = np.ones([total_steps])"
   ]
  },
  {
   "cell_type": "code",
   "execution_count": 3,
   "metadata": {},
   "outputs": [],
   "source": [
    "signal_frame, background_frame = get_signal_and_background_frames()\n",
    "\n",
    "calculate_derived_et_columns(signal_frame, background_frame)"
   ]
  },
  {
   "cell_type": "code",
   "execution_count": 4,
   "metadata": {},
   "outputs": [
    {
     "name": "stdout",
     "output_type": "stream",
     "text": [
      "408\n"
     ]
    }
   ],
   "source": [
    "signal_events = len(signal_frame)\n",
    "\n",
    "# Find number of signal events that must be cut to fall below 90% efficiency\n",
    "sig_events_to_cut = math.ceil(signal_events * 0.1)\n",
    "\n",
    "print(sig_events_to_cut)"
   ]
  },
  {
   "cell_type": "code",
   "execution_count": 5,
   "metadata": {},
   "outputs": [],
   "source": [
    "calculate_derived_et_columns(signal_frame, background_frame, layer_weights=[1, 1], column_names=['L0Et', 'L1Et'],\n",
    "                                     output_column_name='L0+L1Et')\n",
    "calculate_derived_et_columns(signal_frame, background_frame, layer_weights=[1, 1], column_names=['L2Et', 'L3Et'],\n",
    "                                     output_column_name='L2+L3Et')\n",
    "calculate_derived_et_columns(signal_frame, background_frame, layer_weights=[1, 1, 1], column_names=['L2Et', 'L3Et', 'HadEt'],\n",
    "                                     output_column_name='L2+L3+HadEt')"
   ]
  },
  {
   "cell_type": "code",
   "execution_count": 43,
   "metadata": {},
   "outputs": [],
   "source": [
    "# # NOT NECESSARY\n",
    "# calculate_derived_et_columns(signal_frame, background_frame, layer_weights=[1, -1], column_names=['L0+L1Et', 'L2+L3+HadEt'],\n",
    "#                                      output_column_name='TotalEt')\n",
    "\n",
    "# plt.hist(signal_frame['TotalEt'], signal_events)\n",
    "# plt.hist(background_frame['TotalEt'], len(background_frame))\n",
    "# plt.show()"
   ]
  },
  {
   "cell_type": "code",
   "execution_count": 6,
   "metadata": {},
   "outputs": [
    {
     "name": "stderr",
     "output_type": "stream",
     "text": [
      "100%|██████████| 101/101 [00:02<00:00, 39.92it/s]"
     ]
    },
    {
     "name": "stdout",
     "output_type": "stream",
     "text": [
      "[0.73644803 0.50287477 0.39805066 0.3228432  0.27867167 0.26023548\n",
      " 0.23426842 0.22625961 0.21384814 0.2049559  0.20137873 0.19560023\n",
      " 0.19057481 0.18672247 0.18362322 0.18268186 0.18188533 0.17923504\n",
      " 0.17845298 0.17484685 0.17626613 0.17271792 0.17296413 0.17254414\n",
      " 0.17326826 0.1737317  0.17441237 0.17512201 0.17573028 0.17649785\n",
      " 0.17685991 0.17677302 0.17768541 0.17878608 0.17936538 0.17979985\n",
      " 0.18014743 0.18079914 0.1811612  0.18153775 0.18189981 0.18211705\n",
      " 0.18147982 0.18262393 0.18284117 0.18334806 0.18362322 0.18392736\n",
      " 0.18434735 0.1845501  0.18489768 0.18501354 0.18527423 0.18541905\n",
      " 0.18563629 0.18586801 0.18602731 0.18631696 0.18660661 0.18676592\n",
      " 0.18708453 0.1874466  0.1874466  0.18772176 0.18805486 0.18879347\n",
      " 0.18927139 0.18979276 0.19034309 0.19048791 0.19028516 0.19005344\n",
      " 0.18986517 0.18990862 0.19015482 0.19037205 0.19061826 0.19084998\n",
      " 0.19122652 0.1921534  0.19364509 0.19484714 0.19588988 0.1965271\n",
      " 0.19684572 0.19723674 0.19696158 0.19671538 0.1965271  0.19633883\n",
      " 0.19599125 0.19580298 0.19564367 0.19594781 0.19681675 0.19674434\n",
      " 0.19662848 0.19658503 0.1965271  0.19732364 0.19813466]\n"
     ]
    },
    {
     "name": "stderr",
     "output_type": "stream",
     "text": [
      "\n"
     ]
    }
   ],
   "source": [
    "for i in tqdm(range(total_steps)):\n",
    "    l2l3had_weight = weight_steps[i]\n",
    "\n",
    "    calculate_derived_et_columns(signal_frame, background_frame, layer_weights=[1, l2l3had_weight], column_names=['L0+L1Et', 'L2+L3+HadEt'],\n",
    "                                     output_column_name='TotalEt')\n",
    "\n",
    "    end_background_efficiency = background_eff_at_target_signal_eff(signal_frame, background_frame, 'TotalEt', 0.9)\n",
    "    \n",
    "    ninety_percent_efficiencies[i] = end_background_efficiency\n",
    "\n",
    "print(ninety_percent_efficiencies)"
   ]
  },
  {
   "cell_type": "code",
   "execution_count": 19,
   "metadata": {},
   "outputs": [
    {
     "name": "stdout",
     "output_type": "stream",
     "text": [
      "0.17254413532419008\n",
      "2.3000000000000003\n",
      "2.3000000000000003\n",
      "0.19560022592651596\n"
     ]
    }
   ],
   "source": [
    "min_eff = float('inf')\n",
    "min_i = 0\n",
    "min_j = 0\n",
    "for i in range(total_steps):\n",
    "    for j in range(total_steps):\n",
    "        if ninety_percent_efficiencies[i] == 0:\n",
    "            continue\n",
    "        if ninety_percent_efficiencies[i] < min_eff:\n",
    "            min_eff = ninety_percent_efficiencies[i]\n",
    "            min_i = i\n",
    "            min_j = j\n",
    "            \n",
    "print(min_eff)\n",
    "print(min_i * .1)\n",
    "print(weight_steps[min_i])\n",
    "print(ninety_percent_efficiencies[11])"
   ]
  },
  {
   "cell_type": "code",
   "execution_count": 8,
   "metadata": {},
   "outputs": [
    {
     "data": {
      "image/png": "[encoded data removed]",
      "text/plain": [
       "<Figure size 432x288 with 1 Axes>"
      ]
     },
     "metadata": {
      "needs_background": "light"
     },
     "output_type": "display_data"
    }
   ],
   "source": [
    "plt.plot(weight_steps, ninety_percent_efficiencies)\n",
    "plt.show()"
   ]
  },
  {
   "cell_type": "code",
   "execution_count": 10,
   "metadata": {},
   "outputs": [
    {
     "name": "stdout",
     "output_type": "stream",
     "text": [
      "[-3.0, -2.9, -2.8, -2.7, -2.6, -2.5, -2.4, -2.3, -2.2, -2.1, -2.0, -1.9, -1.7999999999999998, -1.7, -1.5999999999999999, -1.5, -1.4, -1.2999999999999998, -1.2, -1.0999999999999999, -1.0, -0.8999999999999999, -0.7999999999999998, -0.6999999999999997, -0.5999999999999996, -0.5, -0.3999999999999999, -0.2999999999999998, -0.19999999999999973, -0.09999999999999964, 0.0, 0.10000000000000009, 0.20000000000000018, 0.30000000000000027, 0.40000000000000036, 0.5, 0.6000000000000001, 0.7000000000000002, 0.8000000000000003, 0.9000000000000004, 1.0, 1.1000000000000005, 1.2000000000000002, 1.2999999999999998, 1.4000000000000004, 1.5, 1.6000000000000005, 1.7000000000000002, 1.8000000000000007, 1.9000000000000004, 2.0, 2.1000000000000005, 2.2, 2.3000000000000007, 2.4000000000000004, 2.5, 2.6000000000000005, 2.7, 2.8000000000000007, 2.9000000000000004, 3.0, 3.1000000000000005, 3.2, 3.3000000000000007, 3.4000000000000004, 3.5, 3.6000000000000005, 3.7, 3.8000000000000007, 3.9000000000000004, 4.0, 4.1000000000000005, 4.2, 4.300000000000001, 4.4, 4.5, 4.6000000000000005, 4.7, 4.800000000000001, 4.9, 5.0]\n",
      "[1. 1. 1. 1. 1. 1. 1. 1. 1. 1. 1. 1. 1. 1. 1. 1. 1. 1. 1. 1. 1. 1. 1. 1.\n",
      " 1. 1. 1. 1. 1. 1. 1. 1. 1. 1. 1. 1. 1. 1. 1. 1. 1. 1. 1. 1. 1. 1. 1. 1.\n",
      " 1. 1. 1. 1. 1. 1. 1. 1. 1. 1. 1. 1. 1. 1. 1. 1. 1. 1. 1. 1. 1. 1. 1. 1.\n",
      " 1. 1. 1. 1. 1. 1. 1. 1. 1.]\n"
     ]
    }
   ],
   "source": [
    "print(weight_steps)\n",
    "print(ninety_percent_efficiencies)"
   ]
  },
  {
   "cell_type": "code",
   "execution_count": 6,
   "metadata": {},
   "outputs": [
    {
     "data": {
      "application/vnd.jupyter.widget-view+json": {
       "model_id": "a0bacb0cea264aceb8fd45c5332aa2bf",
       "version_major": 2,
       "version_minor": 0
      },
      "text/plain": [
       "HBox(children=(IntProgress(value=0, max=101), HTML(value='')))"
      ]
     },
     "metadata": {},
     "output_type": "display_data"
    },
    {
     "name": "stdout",
     "output_type": "stream",
     "text": [
      "\n",
      "Done\n"
     ]
    }
   ],
   "source": [
    "ninety_percent_efficiencies_2d = np.ones([total_steps, total_steps])\n",
    "\n",
    "for i in tqdm(range(total_steps)):\n",
    "    for j in range(total_steps):\n",
    "        l2l3_weight = weight_steps[i]\n",
    "        had_weight = weight_steps[j]\n",
    "        \n",
    "        calculate_derived_et_columns(signal_frame, background_frame, layer_weights=[1, l2l3_weight, had_weight], \n",
    "                                     column_names=['L0+L1Et', 'L2+L3Et', 'HadEt'], output_column_name='TotalEt')\n",
    "\n",
    "        end_background_efficiency = background_eff_at_target_signal_eff(signal_frame, background_frame, 'TotalEt', 0.9)\n",
    "    \n",
    "        ninety_percent_efficiencies_2d[i][j] = end_background_efficiency\n",
    "\n",
    "print('Done')"
   ]
  },
  {
   "cell_type": "code",
   "execution_count": 8,
   "metadata": {},
   "outputs": [
    {
     "name": "stdout",
     "output_type": "stream",
     "text": [
      "[[0.73644803 0.62407855 0.57175339 ... 0.46123767 0.46123767 0.46123767]\n",
      " [0.65214558 0.50287477 0.44955032 ... 0.30954829 0.30954829 0.30954829]\n",
      " [0.61475184 0.45311301 0.39805066 ... 0.23897522 0.23897522 0.23897522]\n",
      " ...\n",
      " [0.67569407 0.66657012 0.63870585 ... 0.1965271  0.19596229 0.19489058]\n",
      " [0.67595476 0.66793147 0.63941549 ... 0.19959739 0.19732364 0.19587539]\n",
      " [0.67624441 0.66888731 0.64026995 ... 0.20013324 0.19946705 0.19813466]]\n"
     ]
    }
   ],
   "source": [
    "print(ninety_percent_efficiencies_2d)"
   ]
  },
  {
   "cell_type": "code",
   "execution_count": 54,
   "metadata": {},
   "outputs": [],
   "source": [
    "x_steps, y_steps = np.meshgrid(weight_steps, weight_steps)"
   ]
  },
  {
   "cell_type": "code",
   "execution_count": 64,
   "metadata": {},
   "outputs": [
    {
     "data": {
      "image/png": "[encoded data removed]",
      "text/plain": [
       "<Figure size 432x288 with 1 Axes>"
      ]
     },
     "metadata": {
      "needs_background": "light"
     },
     "output_type": "display_data"
    }
   ],
   "source": [
    "fig = plt.figure()\n",
    "ax = fig.gca(projection='3d')\n",
    "ax.plot_surface(x_steps, y_steps, ninety_percent_efficiencies_2d, cmap=cm.coolwarm)\n",
    "ax.set_title('Efficiency vs Layer Weights')\n",
    "ax.set_xlabel('Had Weight')\n",
    "ax.set_ylabel('L2+L3 Weight')\n",
    "# ax.set_zlabel('Background Efficiency')\n",
    "ax.view_init(elev=20, azim=45)"
   ]
  },
  {
   "cell_type": "code",
   "execution_count": 7,
   "metadata": {},
   "outputs": [
    {
     "name": "stdout",
     "output_type": "stream",
     "text": [
      "0.1278222711407841\n",
      "13\n",
      "84\n"
     ]
    }
   ],
   "source": [
    "min_eff = float('inf')\n",
    "min_i = 0\n",
    "min_j = 0\n",
    "for i in range(total_steps):\n",
    "    for j in range(total_steps):\n",
    "        if ninety_percent_efficiencies_2d[i][j] == 0:\n",
    "            continue\n",
    "        if ninety_percent_efficiencies_2d[i][j] < min_eff:\n",
    "            min_eff = ninety_percent_efficiencies_2d[i][j]\n",
    "            min_i = i\n",
    "            min_j = j\n",
    "            \n",
    "print(min_eff)\n",
    "print(min_i)\n",
    "print(min_j)"
   ]
  },
  {
   "cell_type": "code",
   "execution_count": 7,
   "metadata": {},
   "outputs": [
    {
     "data": {
      "application/vnd.jupyter.widget-view+json": {
       "model_id": "6c6e77188bfe4c24ae0308078d19ed0b",
       "version_major": 2,
       "version_minor": 0
      },
      "text/plain": [
       "HBox(children=(IntProgress(value=0, max=101), HTML(value='')))"
      ]
     },
     "metadata": {},
     "output_type": "display_data"
    },
    {
     "ename": "KeyboardInterrupt",
     "evalue": "",
     "output_type": "error",
     "traceback": [
      "\u001b[0;31m---------------------------------------------------------------------------\u001b[0m",
      "\u001b[0;31mKeyboardInterrupt\u001b[0m                         Traceback (most recent call last)",
      "\u001b[0;32m<ipython-input-7-83016147148d>\u001b[0m in \u001b[0;36m<module>\u001b[0;34m\u001b[0m\n\u001b[1;32m      9\u001b[0m                                      column_names=['L0+L1Et', 'L2+L3Et', 'HadEt'], output_column_name='TotalEt')\n\u001b[1;32m     10\u001b[0m \u001b[0;34m\u001b[0m\u001b[0m\n\u001b[0;32m---> 11\u001b[0;31m         \u001b[0mend_background_efficiency\u001b[0m \u001b[0;34m=\u001b[0m \u001b[0mbackground_eff_at_target_signal_eff\u001b[0m\u001b[0;34m(\u001b[0m\u001b[0msignal_frame\u001b[0m\u001b[0;34m,\u001b[0m \u001b[0mbackground_frame\u001b[0m\u001b[0;34m,\u001b[0m \u001b[0;34m'TotalEt'\u001b[0m\u001b[0;34m,\u001b[0m \u001b[0;36m0.95\u001b[0m\u001b[0;34m)\u001b[0m\u001b[0;34m\u001b[0m\u001b[0m\n\u001b[0m\u001b[1;32m     12\u001b[0m \u001b[0;34m\u001b[0m\u001b[0m\n\u001b[1;32m     13\u001b[0m         \u001b[0mninetyfive_percent_efficiencies_2d\u001b[0m\u001b[0;34m[\u001b[0m\u001b[0mi\u001b[0m\u001b[0;34m]\u001b[0m\u001b[0;34m[\u001b[0m\u001b[0mj\u001b[0m\u001b[0;34m]\u001b[0m \u001b[0;34m=\u001b[0m \u001b[0mend_background_efficiency\u001b[0m\u001b[0;34m\u001b[0m\u001b[0m\n",
      "\u001b[0;32m~/ROOTModules/LayersDefs.py\u001b[0m in \u001b[0;36mbackground_eff_at_target_signal_eff\u001b[0;34m(signal_frame, background_frame, cut_column, target_signal_eff)\u001b[0m\n\u001b[1;32m    171\u001b[0m \u001b[0;34m\u001b[0m\u001b[0m\n\u001b[1;32m    172\u001b[0m     \u001b[0;31m# Find the number of background events that survive the previously calculated Et cut\u001b[0m\u001b[0;34m\u001b[0m\u001b[0;34m\u001b[0m\u001b[0m\n\u001b[0;32m--> 173\u001b[0;31m     \u001b[0mbackground_above_cutoff_each\u001b[0m \u001b[0;34m=\u001b[0m \u001b[0;34m[\u001b[0m\u001b[0;36m1\u001b[0m \u001b[0;32mif\u001b[0m \u001b[0met\u001b[0m \u001b[0;34m>\u001b[0m \u001b[0met_cutoff\u001b[0m \u001b[0;32melse\u001b[0m \u001b[0;36m0\u001b[0m \u001b[0;32mfor\u001b[0m \u001b[0met\u001b[0m \u001b[0;32min\u001b[0m \u001b[0mbackground_frame\u001b[0m\u001b[0;34m[\u001b[0m\u001b[0mcut_column\u001b[0m\u001b[0;34m]\u001b[0m\u001b[0;34m]\u001b[0m\u001b[0;34m\u001b[0m\u001b[0m\n\u001b[0m\u001b[1;32m    174\u001b[0m     \u001b[0mbackground_above_cutoff\u001b[0m \u001b[0;34m=\u001b[0m \u001b[0msum\u001b[0m\u001b[0;34m(\u001b[0m\u001b[0mbackground_above_cutoff_each\u001b[0m\u001b[0;34m)\u001b[0m\u001b[0;34m\u001b[0m\u001b[0m\n\u001b[1;32m    175\u001b[0m \u001b[0;34m\u001b[0m\u001b[0m\n",
      "\u001b[0;32m~/ROOTModules/LayersDefs.py\u001b[0m in \u001b[0;36m<listcomp>\u001b[0;34m(.0)\u001b[0m\n\u001b[1;32m    171\u001b[0m \u001b[0;34m\u001b[0m\u001b[0m\n\u001b[1;32m    172\u001b[0m     \u001b[0;31m# Find the number of background events that survive the previously calculated Et cut\u001b[0m\u001b[0;34m\u001b[0m\u001b[0;34m\u001b[0m\u001b[0m\n\u001b[0;32m--> 173\u001b[0;31m     \u001b[0mbackground_above_cutoff_each\u001b[0m \u001b[0;34m=\u001b[0m \u001b[0;34m[\u001b[0m\u001b[0;36m1\u001b[0m \u001b[0;32mif\u001b[0m \u001b[0met\u001b[0m \u001b[0;34m>\u001b[0m \u001b[0met_cutoff\u001b[0m \u001b[0;32melse\u001b[0m \u001b[0;36m0\u001b[0m \u001b[0;32mfor\u001b[0m \u001b[0met\u001b[0m \u001b[0;32min\u001b[0m \u001b[0mbackground_frame\u001b[0m\u001b[0;34m[\u001b[0m\u001b[0mcut_column\u001b[0m\u001b[0;34m]\u001b[0m\u001b[0;34m]\u001b[0m\u001b[0;34m\u001b[0m\u001b[0m\n\u001b[0m\u001b[1;32m    174\u001b[0m     \u001b[0mbackground_above_cutoff\u001b[0m \u001b[0;34m=\u001b[0m \u001b[0msum\u001b[0m\u001b[0;34m(\u001b[0m\u001b[0mbackground_above_cutoff_each\u001b[0m\u001b[0;34m)\u001b[0m\u001b[0;34m\u001b[0m\u001b[0m\n\u001b[1;32m    175\u001b[0m \u001b[0;34m\u001b[0m\u001b[0m\n",
      "\u001b[0;31mKeyboardInterrupt\u001b[0m: "
     ]
    }
   ],
   "source": [
    "ninetyfive_percent_efficiencies_2d = np.ones([total_steps, total_steps])\n",
    "\n",
    "for i in tqdm(range(total_steps)):\n",
    "    for j in range(total_steps):\n",
    "        l2l3_weight = weight_steps[i]\n",
    "        had_weight = weight_steps[j]\n",
    "        \n",
    "        calculate_derived_et_columns(signal_frame, background_frame, layer_weights=[1, l2l3_weight, had_weight], \n",
    "                                     column_names=['L0+L1Et', 'L2+L3Et', 'HadEt'], output_column_name='TotalEt')\n",
    "\n",
    "        end_background_efficiency = background_eff_at_target_signal_eff(signal_frame, background_frame, 'TotalEt', 0.95)\n",
    "    \n",
    "        ninetyfive_percent_efficiencies_2d[i][j] = end_background_efficiency\n",
    "\n",
    "print('Done')"
   ]
  },
  {
   "cell_type": "code",
   "execution_count": 63,
   "metadata": {},
   "outputs": [
    {
     "name": "stdout",
     "output_type": "stream",
     "text": [
      "0.6006024707092065\n",
      "3\n",
      "36\n"
     ]
    }
   ],
   "source": [
    "min_eff = float('inf')\n",
    "min_i = 0\n",
    "min_j = 0\n",
    "for i in range(total_steps):\n",
    "    for j in range(total_steps):\n",
    "        if ninetyfive_percent_efficiencies_2d[i][j] == 0:\n",
    "            continue\n",
    "        if ninetyfive_percent_efficiencies_2d[i][j] < min_eff:\n",
    "            min_eff = ninetyfive_percent_efficiencies_2d[i][j]\n",
    "            min_i = i\n",
    "            min_j = j\n",
    "            \n",
    "print(min_eff)\n",
    "print(min_i)\n",
    "print(min_j)"
   ]
  },
  {
   "cell_type": "code",
   "execution_count": 31,
   "metadata": {},
   "outputs": [
    {
     "name": "stdout",
     "output_type": "stream",
     "text": [
      "[0.61982071 0.50952222 0.4222219  0.36839056 0.30896899 0.27193732\n",
      " 0.25927964 0.23612217 0.21578879 0.21326884 0.20385523 0.20045185\n",
      " 0.19290649 0.18672247 0.18365219 0.18142189 0.18132051 0.17451375\n",
      " 0.17016901 0.17106692 0.1655491  0.16580979 0.16147953 0.16242089\n",
      " 0.15978508 0.16062506 0.15703341 0.15743892 0.15793132 0.15855407\n",
      " 0.15884372 0.15849614 0.15824994 0.15639618 0.15558516 0.15373141\n",
      " 0.15338383 0.15145766 0.15171834 0.14867703 0.14476676 0.1448971\n",
      " 0.14360816 0.14378195 0.14278266 0.14263784 0.1401903  0.139611\n",
      " 0.13882895 0.13752553 0.13758346 0.13694623 0.13648279 0.13648279\n",
      " 0.13652623 0.13659865 0.13665658 0.13671451 0.136309   0.13636693\n",
      " 0.13645382 0.13649727 0.13652623 0.13654072 0.13656968 0.13662761\n",
      " 0.13620762 0.13542557 0.13332561 0.13332561 0.12974844 0.1293719\n",
      " 0.12898087 0.12899535 0.12900983 0.12902432 0.12902432 0.12902432\n",
      " 0.12902432 0.12902432 0.12902432 0.12902432 0.12902432 0.12853191\n",
      " 0.12782227 0.12782227 0.12782227 0.12782227 0.12782227 0.12782227\n",
      " 0.12782227 0.12783675 0.12783675 0.12785124 0.12785124 0.12785124\n",
      " 0.12785124 0.12785124 0.12785124 0.12785124 0.12785124]\n"
     ]
    },
    {
     "data": {
      "image/png": "[encoded data removed]",
      "text/plain": [
       "<Figure size 432x288 with 1 Axes>"
      ]
     },
     "metadata": {
      "needs_background": "light"
     },
     "output_type": "display_data"
    }
   ],
   "source": [
    "print(ninety_percent_efficiencies_2d[13])\n",
    "\n",
    "plt.plot(weight_steps, ninety_percent_efficiencies_2d[13])\n",
    "#plt.xlim((8,9))\n",
    "#plt.ylim((0.127,0.13))\n",
    "plt.show()"
   ]
  },
  {
   "cell_type": "code",
   "execution_count": 34,
   "metadata": {},
   "outputs": [],
   "source": [
    "# for i in range(len(weight_steps)):\n",
    "#     print(weight_steps[i])\n",
    "#     print(ninety_percent_efficiencies_2d[13][i])"
   ]
  },
  {
   "cell_type": "code",
   "execution_count": 7,
   "metadata": {},
   "outputs": [
    {
     "data": {
      "application/vnd.jupyter.widget-view+json": {
       "model_id": "23a24a721d6943c29be71b3e43d7395c",
       "version_major": 2,
       "version_minor": 0
      },
      "text/plain": [
       "HBox(children=(IntProgress(value=0, max=101), HTML(value='')))"
      ]
     },
     "metadata": {},
     "output_type": "display_data"
    },
    {
     "name": "stdout",
     "output_type": "stream",
     "text": [
      "L1Weight0\n",
      "\n"
     ]
    },
    {
     "ename": "NameError",
     "evalue": "name 'i' is not defined",
     "output_type": "error",
     "traceback": [
      "\u001b[0;31m---------------------------------------------------------------------------\u001b[0m",
      "\u001b[0;31mNameError\u001b[0m                                 Traceback (most recent call last)",
      "\u001b[0;32m<ipython-input-7-17981f4ec6ce>\u001b[0m in \u001b[0;36m<module>\u001b[0;34m\u001b[0m\n\u001b[1;32m     16\u001b[0m         \u001b[0;32mfor\u001b[0m \u001b[0mk\u001b[0m \u001b[0;32min\u001b[0m \u001b[0mrange\u001b[0m\u001b[0;34m(\u001b[0m\u001b[0mtotal_steps\u001b[0m\u001b[0;34m)\u001b[0m\u001b[0;34m:\u001b[0m\u001b[0;34m\u001b[0m\u001b[0m\n\u001b[1;32m     17\u001b[0m             \u001b[0;32mfor\u001b[0m \u001b[0ml\u001b[0m \u001b[0;32min\u001b[0m \u001b[0mrange\u001b[0m\u001b[0;34m(\u001b[0m\u001b[0mtotal_steps\u001b[0m\u001b[0;34m)\u001b[0m\u001b[0;34m:\u001b[0m\u001b[0;34m\u001b[0m\u001b[0m\n\u001b[0;32m---> 18\u001b[0;31m                 \u001b[0ml0_weight\u001b[0m \u001b[0;34m=\u001b[0m \u001b[0mweight_steps\u001b[0m\u001b[0;34m[\u001b[0m\u001b[0mi\u001b[0m\u001b[0;34m]\u001b[0m\u001b[0;34m\u001b[0m\u001b[0m\n\u001b[0m\u001b[1;32m     19\u001b[0m                 \u001b[0ml2_weight\u001b[0m \u001b[0;34m=\u001b[0m \u001b[0mweight_steps\u001b[0m\u001b[0;34m[\u001b[0m\u001b[0mj\u001b[0m\u001b[0;34m]\u001b[0m\u001b[0;34m\u001b[0m\u001b[0m\n\u001b[1;32m     20\u001b[0m                 \u001b[0ml3_weight\u001b[0m \u001b[0;34m=\u001b[0m \u001b[0mweight_steps\u001b[0m\u001b[0;34m[\u001b[0m\u001b[0mk\u001b[0m\u001b[0;34m]\u001b[0m\u001b[0;34m\u001b[0m\u001b[0m\n",
      "\u001b[0;31mNameError\u001b[0m: name 'i' is not defined"
     ]
    }
   ],
   "source": [
    "total_steps = 101\n",
    "\n",
    "weight_steps = [0.1 * i for i in range(total_steps)]\n",
    "\n",
    "min_eff = float('inf')\n",
    "min_i = 0\n",
    "min_j = 0\n",
    "min_k = 0\n",
    "min_l = 0\n",
    "\n",
    "for l1weight in tqdm(range(total_steps)):\n",
    "    for j in range(total_steps):\n",
    "        for k in range(total_steps):\n",
    "            for l in range(total_steps):\n",
    "                l0_weight = weight_steps[i]\n",
    "                l2_weight = weight_steps[j]\n",
    "                l3_weight = weight_steps[k]\n",
    "                had_weight = weight_steps[l]\n",
    "        \n",
    "                calculate_derived_et_columns(signal_frame, background_frame, layer_weights=[l0_weight, 1, l2_weight, l3_weight, had_weight], \n",
    "                                     column_names=['L0Et', 'L1Et', 'L2Et', 'L3Et', 'HadEt'], output_column_name='TotalEt')\n",
    "\n",
    "                end_background_efficiency = background_eff_at_target_signal_eff(signal_frame, background_frame, 'TotalEt', 0.9)\n",
    "    \n",
    "                if end_background_efficiency == 0:\n",
    "                    continue\n",
    "                if end_background_efficiency < min_eff:\n",
    "                    min_eff = end_background_efficiency\n",
    "                    min_i = i\n",
    "                    min_j = j\n",
    "                    min_k = k\n",
    "                    min_l = l\n",
    "\n",
    "print(end_background_efficiency)\n",
    "print(min_i)\n",
    "print(min_j)\n",
    "print(min_k)\n",
    "print(min_l)"
   ]
  },
  {
   "cell_type": "code",
   "execution_count": null,
   "metadata": {},
   "outputs": [
    {
     "data": {
      "application/vnd.jupyter.widget-view+json": {
       "model_id": "9cab5b5bc0c34b458caffa5e73074044",
       "version_major": 2,
       "version_minor": 0
      },
      "text/plain": [
       "HBox(children=(IntProgress(value=0, max=41), HTML(value='')))"
      ]
     },
     "metadata": {},
     "output_type": "display_data"
    },
    {
     "name": "stdout",
     "output_type": "stream",
     "text": [
      "Skipping i = 0\n",
      "Skipping i = 1\n",
      "Skipping i = 2\n",
      "Skipping i = 3\n",
      "Skipping i = 4\n",
      "Skipping i = 5\n",
      "Skipping i = 6\n",
      "Skipping i = 7\n",
      "Skipping i = 8\n"
     ]
    }
   ],
   "source": [
    "total_steps = 41\n",
    "\n",
    "weight_steps = [0.2 * i for i in range(total_steps)]\n",
    "\n",
    "min_eff = float('inf')\n",
    "min_i = 0\n",
    "min_j = 0\n",
    "min_k = 0\n",
    "min_l = 0\n",
    "\n",
    "for i in tqdm(range(total_steps)):\n",
    "    file_name = f'4DManualWeights/L1Weight{i}'\n",
    "    with open(file_name, 'a+') as f:\n",
    "        f.seek(0)\n",
    "        lines = f.readlines()\n",
    "        num_of_lines = len(lines)\n",
    "    if num_of_lines < total_steps ** 3:\n",
    "        with open(file_name, 'w') as f:\n",
    "            for j in range(total_steps):\n",
    "                for k in range(total_steps):\n",
    "                    for l in range(total_steps):\n",
    "                        l0_weight = weight_steps[i]\n",
    "                        l2_weight = weight_steps[j]\n",
    "                        l3_weight = weight_steps[k]\n",
    "                        had_weight = weight_steps[l]\n",
    "\n",
    "                        calculate_derived_et_columns(signal_frame, background_frame, layer_weights=[l0_weight, 1, l2_weight, l3_weight, had_weight], \n",
    "                                     column_names=['L0Et', 'L1Et', 'L2Et', 'L3Et', 'HadEt'], output_column_name='TotalEt')\n",
    "\n",
    "                        end_background_efficiency = background_eff_at_target_signal_eff(signal_frame, background_frame, 'TotalEt', 0.9)\n",
    "\n",
    "                        loop_identifier = 'i={} j={} k={} l={}'.format(i, j, k, l)\n",
    "                        f.write('{} - {}\\n'.format(end_background_efficiency, loop_identifier))\n",
    "    else:\n",
    "        print(f'Skipping i = {i}')\n",
    "        continue"
   ]
  },
  {
   "cell_type": "code",
   "execution_count": null,
   "metadata": {},
   "outputs": [],
   "source": [
    "min_eff = float('inf')\n",
    "min_i = 0\n",
    "min_j = 0\n",
    "min_k = 0\n",
    "min_l = 0\n",
    "for i in range(total_steps):\n",
    "    for j in range(total_steps):\n",
    "        for k in range(total_steps):\n",
    "            for l in range(total_steps):\n",
    "                if ninety_percent_efficiencies_4d[i][j][k][l] == 0:\n",
    "                    continue\n",
    "                if ninety_percent_efficiencies_4d[i][j][k][l] < min_eff:\n",
    "                    min_eff = ninety_percent_efficiencies_4d[i][j][k][l]\n",
    "                    min_i = i\n",
    "                    min_j = j\n",
    "                    min_k = k\n",
    "                    min_l = l\n",
    "            \n",
    "print(min_eff)\n",
    "print(min_i)\n",
    "print(min_j)\n",
    "print(min_k)\n",
    "print(min_l)"
   ]
  }
 ],
 "metadata": {
  "kernelspec": {
   "display_name": "Python 3",
   "language": "python",
   "name": "python3"
  },
  "language_info": {
   "codemirror_mode": {
    "name": "ipython",
    "version": 3
   },
   "file_extension": ".py",
   "mimetype": "text/x-python",
   "name": "python",
   "nbconvert_exporter": "python",
   "pygments_lexer": "ipython3",
   "version": "3.7.0"
  }
 },
 "nbformat": 4,
 "nbformat_minor": 2
}
