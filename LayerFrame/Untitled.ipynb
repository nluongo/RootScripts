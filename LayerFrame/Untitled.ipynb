{
 "cells": [
  {
   "cell_type": "code",
   "execution_count": 1,
   "metadata": {},
   "outputs": [
    {
     "name": "stdout",
     "output_type": "stream",
     "text": [
      "Welcome to JupyROOT 6.14/02\n"
     ]
    }
   ],
   "source": [
    "import ROOT\n",
    "from ROOT import TCanvas, TH1F\n",
    "from ROOTDefs import tau_formatted_root_directory\n",
    "#from NNDefs import build_and_train_class_nn\n",
    "from LayersDefs import get_signal_and_background_frames, calculate_derived_et_columns, roc_efficiencies, predict_nn_on_all_frame\n",
    "from sklearn.model_selection import train_test_split\n",
    "from sklearn.utils import class_weight\n",
    "import numpy as np\n",
    "import pandas as pd\n",
    "import random\n",
    "import matplotlib.pyplot as plt\n",
    "import os\n",
    "import uproot\n",
    "\n",
    "random.seed(6)\n",
    "np.random.seed(6)"
   ]
  },
  {
   "cell_type": "code",
   "execution_count": 2,
   "metadata": {},
   "outputs": [],
   "source": [
    "signal_frame, background_frame = get_signal_and_background_frames()\n",
    "\n",
    "calculate_derived_et_columns(signal_frame, background_frame)"
   ]
  },
  {
   "cell_type": "code",
   "execution_count": 3,
   "metadata": {},
   "outputs": [],
   "source": [
    "all_frame = pd.concat([signal_frame, background_frame], sort=True)"
   ]
  },
  {
   "cell_type": "code",
   "execution_count": 12,
   "metadata": {},
   "outputs": [
    {
     "name": "stdout",
     "output_type": "stream",
     "text": [
      "[0 1]\n",
      "[0.52952975 8.96603727]\n",
      "{0: 0.5295297542325016, 1: 8.966037273173123}\n"
     ]
    }
   ],
   "source": [
    "classes = np.unique(all_frame['IsSignal'].values)\n",
    "\n",
    "class_weights = class_weight.compute_class_weight('balanced', classes, all_frame['IsSignal'].values)\n",
    "\n",
    "class_weight_dict = {classes[0]:class_weights[0], classes[1]:class_weights[1]}\n",
    "\n",
    "print(np.unique(all_frame['IsSignal'].values))\n",
    "print(class_weights)\n",
    "print(class_weight_dict)"
   ]
  },
  {
   "cell_type": "code",
   "execution_count": 5,
   "metadata": {},
   "outputs": [],
   "source": [
    "signal_efficiencies, background_efficiencies = roc_efficiencies(signal_frame[['TotalEt']], \n",
    "                                                                background_frame[['TotalEt']], \n",
    "                                                                300, \n",
    "                                                                target_90percent_signal=1)"
   ]
  },
  {
   "cell_type": "code",
   "execution_count": null,
   "metadata": {},
   "outputs": [],
   "source": [
    "predicted_signal_frame, predicted_background_frame, _ = predict_nn_on_all_frame(all_frame, \n",
    "                                                                                ['L0Et', 'L1Et', 'L2Et', 'L3Et', 'HadEt'], \n",
    "                                                                                ['IsSignal'])"
   ]
  },
  {
   "cell_type": "code",
   "execution_count": 7,
   "metadata": {},
   "outputs": [],
   "source": [
    "basic_train_signal_efficiencies, basic_train_background_efficiencies = roc_efficiencies(predicted_signal_frame[['NNOutputValue']], \n",
    "                                                                                        predicted_background_frame[['NNOutputValue']], \n",
    "                                                                                        300, \n",
    "                                                                                        target_90percent_signal=1)"
   ]
  },
  {
   "cell_type": "code",
   "execution_count": 8,
   "metadata": {},
   "outputs": [],
   "source": [
    "downsample_background_frame = background_frame.sample(n=len(signal_frame))\n",
    "downsample_all_frame = pd.concat([signal_frame, downsample_background_frame], sort=True)\n",
    "\n",
    "predicted_downsample_signal_frame, predicted_downsample_background_frame, _ = predict_nn_on_all_frame(downsample_all_frame, \n",
    "                                                                                                      ['L0Et', 'L1Et', 'L2Et', 'L3Et', 'HadEt'], \n",
    "                                                                                                      ['IsSignal'])\n",
    "\n",
    "downsample_signal_efficiencies, downsample_background_efficiencies = roc_efficiencies(predicted_downsample_signal_frame[['NNOutputValue']], \n",
    "                                                                                      predicted_downsample_background_frame[['NNOutputValue']], \n",
    "                                                                                      300, \n",
    "                                                                                      target_90percent_signal=1)"
   ]
  },
  {
   "cell_type": "code",
   "execution_count": 9,
   "metadata": {},
   "outputs": [],
   "source": [
    "predicted_weighted_signal_frame, predicted_weighted_background_frame, _ = predict_nn_on_all_frame(all_frame, ['L0Et', 'L1Et', 'L2Et', 'L3Et', 'HadEt'], ['IsSignal'],\n",
    "                                                                                                  class_weight=class_weight_dict)\n",
    "\n",
    "weighted_signal_efficiencies, weighted_background_efficiencies = roc_efficiencies(predicted_weighted_signal_frame[['NNOutputValue']], \n",
    "                                                                                      predicted_weighted_background_frame[['NNOutputValue']], \n",
    "                                                                                      300, \n",
    "                                                                                      target_90percent_signal=1)"
   ]
  },
  {
   "cell_type": "code",
   "execution_count": 10,
   "metadata": {},
   "outputs": [
    {
     "data": {
      "image/png": "[encoded data removed]",
      "text/plain": [
       "<Figure size 432x288 with 1 Axes>"
      ]
     },
     "metadata": {
      "needs_background": "light"
     },
     "output_type": "display_data"
    }
   ],
   "source": [
    "plt.plot(background_efficiencies, signal_efficiencies, label='Untrained')\n",
    "plt.plot(basic_train_background_efficiencies, basic_train_signal_efficiencies, label='All Events')\n",
    "plt.plot(downsample_background_efficiencies, downsample_signal_efficiencies, label='Downsample')\n",
    "plt.plot(weighted_background_efficiencies, weighted_signal_efficiencies, label='Weighted')\n",
    "plt.plot([0, 1], [0.9, 0.9], color='k')\n",
    "plt.legend(loc='lower right')\n",
    "plt.xlim(0, 0.3)\n",
    "plt.ylim(0.85, 0.95)\n",
    "plt.show()"
   ]
  },
  {
   "cell_type": "code",
   "execution_count": null,
   "metadata": {},
   "outputs": [],
   "source": []
  }
 ],
 "metadata": {
  "kernelspec": {
   "display_name": "Python 3",
   "language": "python",
   "name": "python3"
  },
  "language_info": {
   "codemirror_mode": {
    "name": "ipython",
    "version": 3
   },
   "file_extension": ".py",
   "mimetype": "text/x-python",
   "name": "python",
   "nbconvert_exporter": "python",
   "pygments_lexer": "ipython3",
   "version": "3.7.0"
  }
 },
 "nbformat": 4,
 "nbformat_minor": 2
}
